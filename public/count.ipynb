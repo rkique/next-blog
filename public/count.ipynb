{
 "cells": [
  {
   "cell_type": "code",
   "execution_count": 2,
   "metadata": {},
   "outputs": [],
   "source": [
    "str = \"may your words last longer than your plastic\"\n",
    "\n",
    "d = {}\n",
    "for i in str:\n",
    "    if i not in d:\n",
    "        d[i] = 1\n",
    "    else:\n",
    "        d[i]+=1\n"
   ]
  },
  {
   "cell_type": "code",
   "execution_count": 3,
   "metadata": {},
   "outputs": [
    {
     "data": {
      "text/plain": [
       "{'m': 1,\n",
       " 'a': 4,\n",
       " 'y': 3,\n",
       " ' ': 7,\n",
       " 'o': 4,\n",
       " 'u': 2,\n",
       " 'r': 4,\n",
       " 'w': 1,\n",
       " 'd': 1,\n",
       " 's': 3,\n",
       " 'l': 3,\n",
       " 't': 3,\n",
       " 'n': 2,\n",
       " 'g': 1,\n",
       " 'e': 1,\n",
       " 'h': 1,\n",
       " 'p': 1,\n",
       " 'i': 1,\n",
       " 'c': 1}"
      ]
     },
     "execution_count": 3,
     "metadata": {},
     "output_type": "execute_result"
    }
   ],
   "source": [
    "d"
   ]
  }
 ],
 "metadata": {
  "kernelspec": {
   "display_name": "Python 3",
   "language": "python",
   "name": "python3"
  },
  "language_info": {
   "codemirror_mode": {
    "name": "ipython",
    "version": 3
   },
   "file_extension": ".py",
   "mimetype": "text/x-python",
   "name": "python",
   "nbconvert_exporter": "python",
   "pygments_lexer": "ipython3",
   "version": "3.11.3"
  },
  "orig_nbformat": 4
 },
 "nbformat": 4,
 "nbformat_minor": 2
}
